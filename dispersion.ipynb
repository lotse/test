{
 "cells": [
  {
   "cell_type": "code",
   "execution_count": 1,
   "metadata": {
    "collapsed": true
   },
   "outputs": [],
   "source": [
    "import numpy as np"
   ]
  },
  {
   "cell_type": "code",
   "execution_count": 11,
   "metadata": {
    "collapsed": true
   },
   "outputs": [],
   "source": [
    "# функция суммирования элементов массива\n",
    "def summas(a):\n",
    "    s = 0\n",
    "    for x in a:\n",
    "        s += x\n",
    "    return s\n",
    "\n",
    "# функция вычисления среднего арафиметического\n",
    "def average(a):\n",
    "    # используем определенную выше\n",
    "    # функцию суммирования элементов массива\n",
    "    return summas(a)/len(a)\n",
    "\n",
    "# функция вычисления дисперсии\n",
    "def dispersion(a):\n",
    "    av = average(a)\n",
    "    s = 0\n",
    "    for x in a:\n",
    "        s += (x - av) * (x - av)\n",
    "    return s/len(a)"
   ]
  },
  {
   "cell_type": "code",
   "execution_count": 179,
   "metadata": {
    "collapsed": false
   },
   "outputs": [
    {
     "name": "stdout",
     "output_type": "stream",
     "text": [
      "0.0390829900096\n"
     ]
    }
   ],
   "source": [
    "# a. Из стартового нормального распределения делаются две выборки по 50 элементов. \n",
    "# Далее в каждой выборке находится среднее значение и вычисляется разность этих двух средних. \n",
    "# Случайной величиной, дисперсию которой следует найти, здесь и далее является вычисленная разница средних. \n",
    "X = []\n",
    "for i in range(1000):\n",
    "    s1 = np.random.normal(0,1,50)\n",
    "    s2 = np.random.normal(0,1,50)\n",
    "    a = s1.mean() - s2.mean()\n",
    "    X.append(a)\n",
    "    \n",
    "print(dispersion(X))"
   ]
  },
  {
   "cell_type": "code",
   "execution_count": 174,
   "metadata": {
    "collapsed": false
   },
   "outputs": [
    {
     "name": "stdout",
     "output_type": "stream",
     "text": [
      "0.0430562340578\n"
     ]
    }
   ],
   "source": [
    "# b. Из стартового нормального распределения делаются две выборки по 100 элементов. \n",
    "# Далее из каждой выборки по 100 элементов случайно выбираются по 50 элементов без повторов. \n",
    "# В каждой полученной подвыборке находится среднее значение, после чего вычисляется разность полученных средних. \n",
    "\n",
    "X = []\n",
    "for i in range(1000):\n",
    "    s100 = np.random.normal(0,1,100)\n",
    "    np.random.shuffle(s100)\n",
    "    s1 = s100[0:50]\n",
    "    s100 = np.random.normal(0,1,100)\n",
    "    np.random.shuffle(s100)\n",
    "    s2 = s100[0:50]\n",
    "    a = s1.mean() - s2.mean()\n",
    "    X.append(a)\n",
    "    \n",
    "print(dispersion(X))"
   ]
  },
  {
   "cell_type": "code",
   "execution_count": 168,
   "metadata": {
    "collapsed": false
   },
   "outputs": [
    {
     "name": "stdout",
     "output_type": "stream",
     "text": [
      "0.0596326626166\n"
     ]
    }
   ],
   "source": [
    "# c. Из стартового нормального распределения делаются две выборки по 100 элементов. \n",
    "# Далее из каждой выборки по 100 элементов случайно выбираются по 50 элементов с возвращениями \n",
    "# (возможны повторы элементов в подвыборках). Затем, как и выше, вычисляется разница средних в каждой из подвыборок. \n",
    "\n",
    "def getRandom50(a):\n",
    "    b=[]\n",
    "    for i in range(50):\n",
    "        b.append(a[np.random.randint(0,100)])\n",
    "    return (np.asarray(b))\n",
    "\n",
    "X = []\n",
    "for i in range(1000):\n",
    "    s100 = np.random.normal(0,1,100)\n",
    "    s1 = getRandom50(s100)\n",
    "    s100 = np.random.normal(0,1,100)\n",
    "    s2 = getRandom50(s100)\n",
    "    a = s1.mean() - s2.mean()\n",
    "    X.append(a)\n",
    "    \n",
    "print(dispersion(X))"
   ]
  },
  {
   "cell_type": "code",
   "execution_count": 183,
   "metadata": {
    "collapsed": false
   },
   "outputs": [
    {
     "name": "stdout",
     "output_type": "stream",
     "text": [
      "0.0197041812554\n"
     ]
    }
   ],
   "source": [
    "# d. Из стартового нормального распределения делается одна выборка в 100 элементов. \n",
    "# Далее из неё два раза случайным образом делаются подвыборки по 50 элементов, оба раза без повторов \n",
    "# (при этом выборки могут пересекаться друг с другом). Затем вычисляется разница средних в каждой из них. \n",
    "\n",
    "def getUniqueRandom50(a):\n",
    "    b = np.arange(100)\n",
    "    np.random.shuffle(b)\n",
    "    return (a[b[0:50]])\n",
    "\n",
    "X = []\n",
    "for i in range(1000):\n",
    "    s100 = np.random.normal(0,1,100)\n",
    "    s1 = getUniqueRandom50(s100)\n",
    "    s2 = getUniqueRandom50(s100)\n",
    "    a = s1.mean() - s2.mean()\n",
    "    X.append(a)\n",
    "    \n",
    "print(dispersion(X))"
   ]
  },
  {
   "cell_type": "code",
   "execution_count": 158,
   "metadata": {
    "collapsed": false
   },
   "outputs": [
    {
     "name": "stdout",
     "output_type": "stream",
     "text": [
      "0.0399150065223\n"
     ]
    }
   ],
   "source": [
    "# e. Из стартового нормального распределения делается одна выборка на 100 элементов. \n",
    "# Далее из неё два раза случайным образом делаются подвыборки по 50 элементов, оба раза с возвращениями, \n",
    "# т.е. каждый элемент исходной выборки может оказаться в любой из подвыборок несколько раз. \n",
    "# Затем вычисляем разницу средних в каждой из подвыборок.\n",
    "def getRandom50(a):\n",
    "    b=[]\n",
    "    for i in range(50):\n",
    "        b.append(a[np.random.randint(0,100)])\n",
    "    return (np.asarray(b))\n",
    "\n",
    "X = []\n",
    "for i in range(1000):\n",
    "    s100 = np.random.normal(0,1,100)\n",
    "    s1 = getRandom50(s100)\n",
    "    s2 = getRandom50(s100)\n",
    "    a = s1.mean() - s2.mean()\n",
    "    X.append(a)\n",
    "    \n",
    "print(dispersion(X))\n"
   ]
  },
  {
   "cell_type": "code",
   "execution_count": null,
   "metadata": {
    "collapsed": true
   },
   "outputs": [],
   "source": []
  }
 ],
 "metadata": {
  "kernelspec": {
   "display_name": "Python 3",
   "language": "python",
   "name": "python3"
  },
  "language_info": {
   "codemirror_mode": {
    "name": "ipython",
    "version": 3
   },
   "file_extension": ".py",
   "mimetype": "text/x-python",
   "name": "python",
   "nbconvert_exporter": "python",
   "pygments_lexer": "ipython3",
   "version": "3.6.0"
  }
 },
 "nbformat": 4,
 "nbformat_minor": 2
}
