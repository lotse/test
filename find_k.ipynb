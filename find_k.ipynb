{
 "cells": [
  {
   "cell_type": "code",
   "execution_count": 36,
   "metadata": {
    "collapsed": true
   },
   "outputs": [],
   "source": [
    "class TNode:\n",
    "    def __init__ (self, Key, Parent = None):\n",
    "        self.Key = Key\n",
    "        self.Left = None\n",
    "        self.Right = None\n",
    "        self.Parent = None\n",
    "\n",
    "class BST:\n",
    "    def __init__ (self):\n",
    "        self.root = None\n",
    "        \n",
    "    def addNode(self, currentNode, Key):\n",
    "        if (Key < currentNode.Key):\n",
    "            if (currentNode.Left):\n",
    "                self.addNode(currentNode.Left, Key)\n",
    "            else:\n",
    "                currentNode.Left = TNode(Key, currentNode)\n",
    "        elif (Key >= currentNode.Key):\n",
    "            if (currentNode.Right):\n",
    "                self.addNode(currentNode.Right, Key)\n",
    "            else:\n",
    "                currentNode.Right = TNode(Key, currentNode) \n",
    "    \n",
    "    def insert(self, Key):\n",
    "        if (self.root):\n",
    "            self.addNode(self.root, Key)\n",
    "        else:\n",
    "            self.root = TNode(Key)\n",
    "            \n",
    "    def insertList(self, List):\n",
    "        while(len(List)>0):\n",
    "            self.insert(List.pop())\n",
    "            "
   ]
  },
  {
   "cell_type": "code",
   "execution_count": 43,
   "metadata": {
    "collapsed": false
   },
   "outputs": [],
   "source": [
    "def find_k(node, k):\n",
    "    i = 0\n",
    "    node_list = []\n",
    "    while(node):\n",
    "        node_list.append(node)\n",
    "        startNode = node\n",
    "        node = node.Right\n",
    "    while(len(node_list)>0):\n",
    "        node = node_list.pop()\n",
    "        #print(i,node.Key)\n",
    "        if (i==k):\n",
    "            return node.Key\n",
    "        if (node.Left):\n",
    "            node_list.append(node.Left)\n",
    "            n = node.Left\n",
    "            while(n.Right):\n",
    "                node_list.append(n.Right)\n",
    "                n = n.Right\n",
    "        i = i+1\n",
    "    return -1"
   ]
  },
  {
   "cell_type": "code",
   "execution_count": 44,
   "metadata": {
    "collapsed": false
   },
   "outputs": [
    {
     "data": {
      "text/plain": [
       "6"
      ]
     },
     "execution_count": 44,
     "metadata": {},
     "output_type": "execute_result"
    }
   ],
   "source": [
    "bst = BST()\n",
    "bst.insertList([11,2,8,6,1,3,9,4,5])\n",
    "find_k(bst.root,3)"
   ]
  }
 ],
 "metadata": {
  "kernelspec": {
   "display_name": "Python 3",
   "language": "python",
   "name": "python3"
  },
  "language_info": {
   "codemirror_mode": {
    "name": "ipython",
    "version": 3
   },
   "file_extension": ".py",
   "mimetype": "text/x-python",
   "name": "python",
   "nbconvert_exporter": "python",
   "pygments_lexer": "ipython3",
   "version": "3.6.0"
  }
 },
 "nbformat": 4,
 "nbformat_minor": 2
}
